{
 "cells": [
  {
   "cell_type": "code",
   "execution_count": 1,
   "id": "b5d99443",
   "metadata": {},
   "outputs": [],
   "source": [
    "from pycocotools.coco import COCO\n",
    "import os\n",
    "import cv2\n",
    "import time\n",
    "import matplotlib.pyplot as plt\n",
    "import numpy as np\n",
    "from tqdm import tqdm\n",
    "import random"
   ]
  },
  {
   "cell_type": "code",
   "execution_count": 2,
   "id": "da1a6701",
   "metadata": {},
   "outputs": [],
   "source": [
    "# Annotation Files\n",
    "train_ann = \"/home/ani/Documents/datasets/coco/annotations/instances_train2017.json\"\n",
    "val_ann = \"/home/ani/Documents/datasets/coco/annotations/instances_val2017.json\"\n",
    "\n",
    "train_img_dir = '/home/ani/Documents/datasets/coco/train2017/'\n",
    "val_img_dir = '/home/ani/Documents/datasets/coco/val2017/'\n",
    "\n",
    "train_dest_segmentation_masks = '/home/ani/Documents/datasets/coco/segmentations/train'\n",
    "val_dest_segmentation_masks = '/home/ani/Documents/datasets/coco/segmentations/val'\n",
    "\n",
    "train_dest_cropped_images = '/home/ani/Documents/datasets/coco/cropped_images/train'\n",
    "val_dest_cropped_images = '/home/ani/Documents/datasets/coco/cropped_images/val'"
   ]
  },
  {
   "cell_type": "code",
   "execution_count": 3,
   "id": "d3818531",
   "metadata": {},
   "outputs": [],
   "source": [
    "# Hyperparameters\n",
    "DIMS = 100, 100\n",
    "MIN_IMAGE_SIZE = 30\n",
    "PADDING_CHOICES = [0.0, 0.1, 0.2, 0.3, 0.4, 0.5]"
   ]
  },
  {
   "cell_type": "code",
   "execution_count": 4,
   "id": "788baa47",
   "metadata": {},
   "outputs": [
    {
     "name": "stdout",
     "output_type": "stream",
     "text": [
      "loading annotations into memory...\n",
      "Done (t=9.21s)\n",
      "creating index...\n",
      "index created!\n",
      "loading annotations into memory...\n",
      "Done (t=0.30s)\n",
      "creating index...\n",
      "index created!\n"
     ]
    }
   ],
   "source": [
    "# Initialize the COCO objects\n",
    "train_coco = COCO(train_ann)\n",
    "val_coco = COCO(val_ann)"
   ]
  },
  {
   "cell_type": "code",
   "execution_count": 5,
   "id": "60dc88ad",
   "metadata": {
    "scrolled": false
   },
   "outputs": [],
   "source": [
    "def letterbox_image(image, size):\n",
    "    ih, iw = image.shape[:2]\n",
    "    w, h = size\n",
    "    scale = min(w / iw, h / ih)\n",
    "\n",
    "    # Get the new scaled width and height\n",
    "    nw = int(scale * iw)\n",
    "    nh = int(scale * ih)\n",
    "\n",
    "    # Resize Image based on it's initial size maintaining original aspect ratio\n",
    "    if nw > iw or nh > ih:\n",
    "        image = cv2.resize(image, (nw, nh), interpolation=cv2.INTER_CUBIC)\n",
    "    else:\n",
    "        image = cv2.resize(image, (nw, nh), interpolation=cv2.INTER_AREA)\n",
    "\n",
    "    # Create a blank template image\n",
    "    new_image = np.zeros((h, w, 3), np.uint8)\n",
    "\n",
    "    # Calculate the offsets\n",
    "    dx = (w - nw) // 2\n",
    "    dy = (h - nh) // 2\n",
    "\n",
    "    new_image[dy : dy + nh, dx : dx + nw] = image\n",
    "\n",
    "    return new_image\n",
    "\n",
    "\n",
    "def get_cropped_rois(coco_object, index, filtered_cat_id, filtered_img_id, img_dir):\n",
    "    # Load Image\n",
    "    img_meta = coco_object.loadImgs(filtered_img_id[index])\n",
    "    img_path = os.path.join(img_dir, img_meta[0]['file_name'])\n",
    "    img = cv2.imread(img_path)\n",
    "    height, width = img.shape[:2]\n",
    "\n",
    "    # Load Annotations\n",
    "    annIds = coco_object.getAnnIds(imgIds=img_meta[0]['id'], catIds=filtered_cat_id, iscrowd=False)\n",
    "    anns = coco_object.loadAnns(annIds)\n",
    "    \n",
    "    # Generate Mask\n",
    "    anns_mask = np.zeros((height, width), dtype=np.uint8)\n",
    "    for i, ann in enumerate(anns):\n",
    "        # Extract Mask\n",
    "        anns_mask = coco_object.annToMask(ann)*ann['category_id']\n",
    "        anns_mask = (anns_mask / anns_mask.max() * 255).astype(np.uint8)\n",
    "        anns_mask = cv2.cvtColor(anns_mask, cv2.COLOR_GRAY2BGR)\n",
    "        \n",
    "        # Extract Coordinates\n",
    "        x, y, w, h = ann[\"bbox\"]\n",
    "        xmin, ymin, xmax, ymax = int(x), int(y), int(x + w), int(y + h)\n",
    "        \n",
    "        # Filter BBoxes < MIN_IMAGE_SIZE Pixels in size \n",
    "        if min(w, h) < MIN_IMAGE_SIZE:\n",
    "            continue\n",
    "        \n",
    "        # Add Some Padding\n",
    "        padding_percent = random.choice(PADDING_CHOICES)\n",
    "        xmin = max(0, int(xmin - padding_percent * w))\n",
    "        ymin = max(0, int(ymin - padding_percent * h))\n",
    "        xmax = min(width, int(xmax + padding_percent * w))\n",
    "        ymax = min(height, int(ymax + padding_percent * h))\n",
    "        \n",
    "        # Exctract ROI\n",
    "        cropped_mask = anns_mask[ymin: ymax, xmin: xmax]\n",
    "        cropped_image = img[ymin: ymax, xmin: xmax]\n",
    "        \n",
    "        # Letterbox Image\n",
    "        cropped_mask = letterbox_image(cropped_mask, DIMS)\n",
    "        cropped_image = letterbox_image(cropped_image, DIMS)\n",
    "        \n",
    "        filename = f\"{img_meta[0]['file_name'][:-4]}_{i}.jpg\"\n",
    "        \n",
    "        yield filename, cropped_image, cropped_mask\n",
    "\n",
    "\n",
    "def write_cropped_rois(\n",
    "        coco_object,\n",
    "        index, \n",
    "        filtered_cat_id, \n",
    "        filtered_img_id, \n",
    "        dest_image_folder, \n",
    "        dest_mask_folder, \n",
    "        img_dir\n",
    "    ):\n",
    "\n",
    "    if not os.path.isdir(dest_image_folder):\n",
    "        os.makedirs(dest_image_folder)\n",
    "        \n",
    "    if not os.path.isdir(dest_mask_folder):\n",
    "        os.makedirs(dest_mask_folder)\n",
    "        \n",
    "    generator = get_cropped_rois(coco_object, index, filtered_cat_id, filtered_img_id, img_dir)\n",
    "    for filename, image, mask in generator:\n",
    "        # Generate Paths\n",
    "        dest_image_path = os.path.join(dest_image_folder, filename)\n",
    "        dest_mask_path = os.path.join(dest_mask_folder, filename)\n",
    "        \n",
    "        # Write Images & Masks\n",
    "        cv2.imwrite(dest_image_path, image)\n",
    "        cv2.imwrite(dest_mask_path, mask)\n",
    "\n",
    "\n",
    "def write_train_masks(train_coco, train_dest_image_folder, train_dest_mask_folder, classes=['person']):\n",
    "    print(\"Processing Train Images\")\n",
    "    time.sleep(0.5)\n",
    "    filtered_cat_id = train_coco.getCatIds(classes)\n",
    "    filtered_img_id = train_coco.getImgIds(catIds=filtered_cat_id) \n",
    "    \n",
    "    for i in tqdm(range(len(filtered_img_id))):\n",
    "        write_cropped_rois(\n",
    "            train_coco, i,\n",
    "            filtered_cat_id, filtered_img_id, \n",
    "            train_dest_image_folder, train_dest_mask_folder, \n",
    "            train_img_dir\n",
    "        )\n",
    "        \n",
    "    print(\"Train Segmentation Masks Processing Complete\")\n",
    "\n",
    "\n",
    "def write_val_masks(val_coco, val_dest_image_folder, val_dest_mask_folder, classes=['person']):\n",
    "    print(\"Processing Val Images\")\n",
    "    time.sleep(0.5)\n",
    "    filtered_cat_id = val_coco.getCatIds(classes)\n",
    "    filtered_img_id = val_coco.getImgIds(catIds=filtered_cat_id) \n",
    "    \n",
    "    for i in tqdm(range(len(filtered_img_id))):\n",
    "        write_cropped_rois(\n",
    "            val_coco, i, \n",
    "            filtered_cat_id, filtered_img_id, \n",
    "            val_dest_image_folder, val_dest_mask_folder, \n",
    "            val_img_dir\n",
    "        )\n",
    "        \n",
    "    print(\"Val Segmentation Masks Processing Complete\")"
   ]
  },
  {
   "cell_type": "code",
   "execution_count": 6,
   "id": "cb790a30",
   "metadata": {},
   "outputs": [
    {
     "name": "stdout",
     "output_type": "stream",
     "text": [
      "Processing Val Images\n"
     ]
    },
    {
     "name": "stderr",
     "output_type": "stream",
     "text": [
      "100%|██████████| 5000/5000 [01:20<00:00, 62.09it/s]\n"
     ]
    },
    {
     "name": "stdout",
     "output_type": "stream",
     "text": [
      "Val Segmentation Masks Processing Complete\n",
      "Processing Train Images\n"
     ]
    },
    {
     "name": "stderr",
     "output_type": "stream",
     "text": [
      " 13%|█▎        | 15253/118287 [04:10<48:17, 35.56it/s] /home/ani/miniconda3/envs/tf2x/lib/python3.7/site-packages/ipykernel_launcher.py:44: RuntimeWarning: invalid value encountered in true_divide\n",
      "100%|██████████| 118287/118287 [34:48<00:00, 56.63it/s] "
     ]
    },
    {
     "name": "stdout",
     "output_type": "stream",
     "text": [
      "Train Segmentation Masks Processing Complete\n"
     ]
    },
    {
     "name": "stderr",
     "output_type": "stream",
     "text": [
      "\n"
     ]
    }
   ],
   "source": [
    "write_val_masks(\n",
    "    val_coco, \n",
    "    val_dest_cropped_images,\n",
    "    val_dest_segmentation_masks, \n",
    "    classes=None\n",
    ")\n",
    "write_train_masks(\n",
    "    train_coco, \n",
    "    train_dest_cropped_images,\n",
    "    train_dest_segmentation_masks, \n",
    "    classes=None\n",
    ")"
   ]
  }
 ],
 "metadata": {
  "kernelspec": {
   "display_name": "Python 3",
   "language": "python",
   "name": "python3"
  },
  "language_info": {
   "codemirror_mode": {
    "name": "ipython",
    "version": 3
   },
   "file_extension": ".py",
   "mimetype": "text/x-python",
   "name": "python",
   "nbconvert_exporter": "python",
   "pygments_lexer": "ipython3",
   "version": "3.7.10"
  }
 },
 "nbformat": 4,
 "nbformat_minor": 5
}
